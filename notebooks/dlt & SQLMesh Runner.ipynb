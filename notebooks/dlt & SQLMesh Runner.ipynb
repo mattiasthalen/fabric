{
 "cells": [
  {
   "cell_type": "markdown",
   "id": "b4b54b37-ce24-4048-8e22-4de61fee935f",
   "metadata": {
    "microsoft": {
     "language": "python",
     "language_group": "jupyter_python"
    },
    "nteract": {
     "transient": {
      "deleting": false
     }
    }
   },
   "source": [
    "# dlt & SQLMesh Runner"
   ]
  },
  {
   "cell_type": "markdown",
   "id": "1c70f904-734c-452b-b62b-30e017d4fb5d",
   "metadata": {
    "microsoft": {
     "language": "python",
     "language_group": "jupyter_python"
    },
    "nteract": {
     "transient": {
      "deleting": false
     }
    }
   },
   "source": [
    "## Parameters"
   ]
  },
  {
   "cell_type": "code",
   "execution_count": 28,
   "id": "113fa246-311c-40cb-b1d7-f59f209f8401",
   "metadata": {
    "microsoft": {
     "language": "python",
     "language_group": "jupyter_python"
    },
    "tags": [
     "parameters"
    ]
   },
   "outputs": [
    {
     "data": {
      "application/vnd.jupyter.statement-meta+json": {
       "execution_finish_time": "2025-06-27T12:55:02.5633798Z",
       "execution_start_time": "2025-06-27T12:55:02.0124562Z",
       "normalized_state": "finished",
       "parent_msg_id": "7b6236d9-ce49-4097-bf15-2efa61e70b2f",
       "queued_time": "2025-06-27T12:55:02.0115564Z",
       "session_id": "36d8155b-21ee-4570-8f23-5933478ec317",
       "session_start_time": null
      }
     },
     "metadata": {},
     "output_type": "display_data"
    }
   ],
   "source": [
    "dlt_pipeline = \"dlt/northwind/northwind.py\"\n",
    "env = \"prod\"\n",
    "command = \"sqlmesh\""
   ]
  },
  {
   "cell_type": "markdown",
   "id": "4f674f37-e19f-46b8-abcb-51f4501a745c",
   "metadata": {
    "microsoft": {
     "language": "python",
     "language_group": "jupyter_python"
    },
    "nteract": {
     "transient": {
      "deleting": false
     }
    }
   },
   "source": [
    "## Environment Variables"
   ]
  },
  {
   "cell_type": "code",
   "execution_count": null,
   "id": "3340e4d1-84d5-4979-8d9e-d10bf6664111",
   "metadata": {
    "microsoft": {
     "language": "python",
     "language_group": "jupyter_python"
    }
   },
   "outputs": [],
   "source": [
    "import notebookutils\n",
    "import os\n",
    "\n",
    "os.environ[\"CREDENTIALS__AZURE_TENANT_ID\"] = notebookutils.variableLibrary.get(\"$(/**/Secrets/CREDENTIALS__AZURE_TENANT_ID)\")\n",
    "os.environ[\"CREDENTIALS__AZURE_CLIENT_ID\"] = notebookutils.variableLibrary.get(\"$(/**/Secrets/CREDENTIALS__AZURE_CLIENT_ID)\")\n",
    "os.environ[\"CREDENTIALS__AZURE_CLIENT_SECRET\"] = notebookutils.variableLibrary.get(\"$(/**/Secrets/CREDENTIALS__AZURE_CLIENT_SECRET)\")\n",
    "os.environ[\"CREDENTIALS__AZURE_STORAGE_ACCOUNT_NAME\"] = notebookutils.variableLibrary.get(\"$(/**/Secrets/CREDENTIALS__AZURE_STORAGE_ACCOUNT_NAME)\")\n",
    "os.environ[\"CREDENTIALS__AZURE_ACCOUNT_HOST\"] = notebookutils.variableLibrary.get(\"$(/**/Secrets/CREDENTIALS__AZURE_ACCOUNT_HOST)\")\n",
    "\n",
    "os.environ[\"FABRIC__WAREHOUSE_ENDPOINT\"] = notebookutils.variableLibrary.get(\"$(/**/Secrets/FABRIC__WAREHOUSE_ENDPOINT)\")\n",
    "os.environ[\"FABRIC__SQL_DB_ENDPOINT\"] = notebookutils.variableLibrary.get(\"$(/**/Secrets/FABRIC__SQL_DB_ENDPOINT)\")\n",
    "os.environ[\"FABRIC__SQL_DB_NAME\"] = notebookutils.variableLibrary.get(\"$(/**/Secrets/FABRIC__SQL_DB_NAME)\")\n",
    "\n",
    "os.environ[\"DESTINATION__BUCKET_URL\"] = notebookutils.variableLibrary.get(\"$(/**/Secrets/DESTINATION__BUCKET_URL)\")\n",
    "\n",
    "os.getenv(\"DESTINATION__BUCKET_URL\")"
   ]
  },
  {
   "cell_type": "markdown",
   "id": "ff942324-c71c-460a-a6a5-02e614197319",
   "metadata": {
    "microsoft": {
     "language": "python",
     "language_group": "jupyter_python"
    },
    "nteract": {
     "transient": {
      "deleting": false
     }
    }
   },
   "source": [
    "## Clone Repo"
   ]
  },
  {
   "cell_type": "code",
   "execution_count": 27,
   "id": "c0d6dc88-5b42-4991-93d1-690a527957eb",
   "metadata": {
    "microsoft": {
     "language": "python",
     "language_group": "jupyter_python"
    }
   },
   "outputs": [
    {
     "data": {
      "application/vnd.jupyter.statement-meta+json": {
       "execution_finish_time": "2025-06-27T12:53:07.2120271Z",
       "execution_start_time": "2025-06-27T12:53:06.2025243Z",
       "normalized_state": "finished",
       "parent_msg_id": "7bee4a42-9923-4bcd-8244-0e5b9a53fa1a",
       "queued_time": "2025-06-27T12:53:06.2016285Z",
       "session_id": "36d8155b-21ee-4570-8f23-5933478ec317",
       "session_start_time": null
      }
     },
     "metadata": {},
     "output_type": "display_data"
    },
    {
     "name": "stdout",
     "output_type": "stream",
     "text": [
      "Cloning into '/tmp/Code'...\n",
      "remote: Enumerating objects: 711, done.\u001b[K\n",
      "remote: Counting objects: 100% (295/295), done.\u001b[K\n",
      "remote: Compressing objects: 100% (155/155), done.\u001b[K\n",
      "remote: Total 711 (delta 202), reused 200 (delta 121), pack-reused 416 (from 1)\u001b[K\n",
      "Receiving objects: 100% (711/711), 126.06 KiB | 6.30 MiB/s, done.\n",
      "Resolving deltas: 100% (487/487), done.\n"
     ]
    },
    {
     "data": {
      "text/plain": [
       "['sqlmesh',\n",
       " 'LICENSE',\n",
       " 'pyproject.toml',\n",
       " 'dlt',\n",
       " '.env_example',\n",
       " 'requirements.txt',\n",
       " '.git',\n",
       " 'set_env_vars.sh',\n",
       " '.gitignore',\n",
       " '.devcontainer',\n",
       " 'README.md']"
      ]
     },
     "execution_count": 29,
     "metadata": {},
     "output_type": "execute_result"
    }
   ],
   "source": [
    "import shutil\n",
    "import os\n",
    "import subprocess\n",
    "\n",
    "repo_dir = \"/tmp/Code\"\n",
    "repo_url = \"https://github.com/mattiasthalen/fabric\"\n",
    "\n",
    "if os.path.isdir(repo_dir):\n",
    "    shutil.rmtree(repo_dir)\n",
    "\n",
    "os.makedirs(repo_dir)\n",
    "os.chdir(repo_dir)\n",
    "!git clone {repo_url} {repo_dir}\n",
    "\n",
    "os.listdir(repo_dir)"
   ]
  },
  {
   "cell_type": "markdown",
   "id": "50ba8841-4576-4e90-8047-47e8aa256c44",
   "metadata": {
    "microsoft": {
     "language": "python",
     "language_group": "jupyter_python"
    },
    "nteract": {
     "transient": {
      "deleting": false
     }
    }
   },
   "source": [
    "## Install Requirements"
   ]
  },
  {
   "cell_type": "code",
   "execution_count": null,
   "id": "19d37a19-8e56-41cd-9b85-21fd39565130",
   "metadata": {
    "microsoft": {
     "language": "python",
     "language_group": "jupyter_python"
    }
   },
   "outputs": [],
   "source": [
    "if command == \"sqlmesh\":\n",
    "    !pip install \"sqlmesh[mssql-odbc] @ git+https://github.com/fresioAS/sqlmesh.git@add_fabric_warehouse\""
   ]
  },
  {
   "cell_type": "markdown",
   "id": "056a31fd-8e57-4b9e-8bc0-1a006f74ecf7",
   "metadata": {
    "microsoft": {
     "language": "python",
     "language_group": "jupyter_python"
    },
    "nteract": {
     "transient": {
      "deleting": false
     }
    }
   },
   "source": [
    "## Run SQLMesh"
   ]
  },
  {
   "cell_type": "code",
   "execution_count": null,
   "id": "909f52bd-d568-4183-8370-27abaaac24ae",
   "metadata": {
    "microsoft": {
     "language": "python",
     "language_group": "jupyter_python"
    }
   },
   "outputs": [],
   "source": [
    "if command == \"sqlmesh\":\n",
    "    !sqlmesh -p {repo_dir}/sqlmesh run {env}"
   ]
  }
 ],
 "metadata": {
  "dependencies": {},
  "kernel_info": {
   "jupyter_kernel_name": "python3.11",
   "name": "jupyter"
  },
  "kernelspec": {
   "display_name": "synapse_pyspark",
   "name": "synapse_pyspark"
  },
  "language_info": {
   "name": "python"
  },
  "microsoft": {
   "language": "python",
   "language_group": "jupyter_python",
   "ms_spell_check": {
    "ms_spell_check_language": "en"
   }
  },
  "nteract": {
   "version": "nteract-front-end@1.0.0"
  },
  "spark_compute": {
   "compute_id": "/trident/default",
   "session_options": {
    "conf": {
     "spark.synapse.nbs.session.timeout": "1200000"
    }
   }
  }
 },
 "nbformat": 4,
 "nbformat_minor": 5
}
