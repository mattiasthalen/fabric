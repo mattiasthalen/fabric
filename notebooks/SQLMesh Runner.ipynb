{
 "cells": [
  {
   "cell_type": "markdown",
   "id": "b4b54b37-ce24-4048-8e22-4de61fee935f",
   "metadata": {
    "microsoft": {
     "language": "python",
     "language_group": "jupyter_python"
    },
    "nteract": {
     "transient": {
      "deleting": false
     }
    }
   },
   "source": [
    "# SQLMesh Runner"
   ]
  },
  {
   "cell_type": "markdown",
   "id": "1c70f904-734c-452b-b62b-30e017d4fb5d",
   "metadata": {
    "microsoft": {
     "language": "python",
     "language_group": "jupyter_python"
    },
    "nteract": {
     "transient": {
      "deleting": false
     }
    }
   },
   "source": [
    "## Parameters"
   ]
  },
  {
   "cell_type": "code",
   "execution_count": null,
   "id": "113fa246-311c-40cb-b1d7-f59f209f8401",
   "metadata": {
    "microsoft": {
     "language": "python",
     "language_group": "jupyter_python"
    },
    "tags": [
     "parameters"
    ]
   },
   "outputs": [],
   "source": [
    "env = \"prod\""
   ]
  },
  {
   "cell_type": "markdown",
   "id": "4f674f37-e19f-46b8-abcb-51f4501a745c",
   "metadata": {
    "microsoft": {
     "language": "python",
     "language_group": "jupyter_python"
    },
    "nteract": {
     "transient": {
      "deleting": false
     }
    }
   },
   "source": [
    "## Environment Variables"
   ]
  },
  {
   "cell_type": "code",
   "execution_count": null,
   "id": "3340e4d1-84d5-4979-8d9e-d10bf6664111",
   "metadata": {
    "microsoft": {
     "language": "python",
     "language_group": "jupyter_python"
    }
   },
   "outputs": [],
   "source": [
    "import notebookutils\n",
    "import os\n",
    "\n",
    "os.environ[\"CREDENTIALS__AZURE_CLIENT_ID\"] = notebookutils.variableLibrary.get(\"$(/**/Secrets/CREDENTIALS__AZURE_CLIENT_ID)\")\n",
    "os.environ[\"CREDENTIALS__AZURE_CLIENT_SECRET\"] = notebookutils.variableLibrary.get(\"$(/**/Secrets/CREDENTIALS__AZURE_CLIENT_SECRET)\")\n",
    "\n",
    "os.environ[\"FABRIC__WAREHOUSE_ENDPOINT\"] = notebookutils.variableLibrary.get(\"$(/**/Secrets/FABRIC__WAREHOUSE_ENDPOINT)\")\n",
    "os.environ[\"FABRIC__SQL_DB_ENDPOINT\"] = notebookutils.variableLibrary.get(\"$(/**/Secrets/FABRIC__SQL_DB_ENDPOINT)\")\n",
    "os.environ[\"FABRIC__SQL_DB_NAME\"] = notebookutils.variableLibrary.get(\"$(/**/Secrets/FABRIC__SQL_DB_NAME)\")\n"
   ]
  },
  {
   "cell_type": "markdown",
   "id": "ff942324-c71c-460a-a6a5-02e614197319",
   "metadata": {
    "microsoft": {
     "language": "python",
     "language_group": "jupyter_python"
    },
    "nteract": {
     "transient": {
      "deleting": false
     }
    }
   },
   "source": [
    "## Clone Repo"
   ]
  },
  {
   "cell_type": "code",
   "execution_count": null,
   "id": "c0d6dc88-5b42-4991-93d1-690a527957eb",
   "metadata": {
    "microsoft": {
     "language": "python",
     "language_group": "jupyter_python"
    }
   },
   "outputs": [],
   "source": [
    "import shutil\n",
    "import os\n",
    "import subprocess\n",
    "\n",
    "repo_dir = \"/tmp/Code\"\n",
    "repo_url = \"https://github.com/mattiasthalen/fabric\"\n",
    "\n",
    "if os.path.isdir(repo_dir):\n",
    "    shutil.rmtree(repo_dir)\n",
    "\n",
    "os.makedirs(repo_dir)\n",
    "os.chdir(repo_dir)\n",
    "!git clone {repo_url} {repo_dir}\n",
    "\n",
    "os.listdir(repo_dir)"
   ]
  },
  {
   "cell_type": "markdown",
   "id": "50ba8841-4576-4e90-8047-47e8aa256c44",
   "metadata": {
    "microsoft": {
     "language": "python",
     "language_group": "jupyter_python"
    },
    "nteract": {
     "transient": {
      "deleting": false
     }
    }
   },
   "source": [
    "## Install Requirements"
   ]
  },
  {
   "cell_type": "code",
   "execution_count": null,
   "id": "19d37a19-8e56-41cd-9b85-21fd39565130",
   "metadata": {
    "microsoft": {
     "language": "python",
     "language_group": "jupyter_python"
    }
   },
   "outputs": [],
   "source": [
    "!pip install \"sqlmesh[mssql-odbc] @ git+https://github.com/fresioAS/sqlmesh.git@add_fabric_warehouse\""
   ]
  },
  {
   "cell_type": "markdown",
   "id": "056a31fd-8e57-4b9e-8bc0-1a006f74ecf7",
   "metadata": {
    "microsoft": {
     "language": "python",
     "language_group": "jupyter_python"
    },
    "nteract": {
     "transient": {
      "deleting": false
     }
    }
   },
   "source": [
    "## Run SQLMesh"
   ]
  },
  {
   "cell_type": "code",
   "execution_count": null,
   "id": "909f52bd-d568-4183-8370-27abaaac24ae",
   "metadata": {
    "microsoft": {
     "language": "python",
     "language_group": "jupyter_python"
    }
   },
   "outputs": [],
   "source": [
    "!sqlmesh -p {repo_dir}/sqlmesh run {env}"
   ]
  }
 ],
 "metadata": {
  "dependencies": {},
  "kernel_info": {
   "jupyter_kernel_name": "python3.11",
   "name": "jupyter"
  },
  "kernelspec": {
   "display_name": "synapse_pyspark",
   "name": "synapse_pyspark"
  },
  "language_info": {
   "name": "python"
  },
  "microsoft": {
   "language": "python",
   "language_group": "jupyter_python",
   "ms_spell_check": {
    "ms_spell_check_language": "en"
   }
  },
  "nteract": {
   "version": "nteract-front-end@1.0.0"
  },
  "spark_compute": {
   "compute_id": "/trident/default",
   "session_options": {
    "conf": {
     "spark.synapse.nbs.session.timeout": "1200000"
    }
   }
  }
 },
 "nbformat": 4,
 "nbformat_minor": 5
}
